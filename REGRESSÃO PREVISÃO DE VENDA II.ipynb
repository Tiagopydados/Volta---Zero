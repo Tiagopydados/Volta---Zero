{
 "cells": [
  {
   "cell_type": "markdown",
   "metadata": {},
   "source": [
    "# EBAC - Regressão II - regressão múltipla\n",
    "\n",
    "## Tarefa I"
   ]
  },
  {
   "cell_type": "markdown",
   "metadata": {},
   "source": [
    "#### Previsão de renda II\n",
    "\n",
    "Vamos continuar trabalhando com a base 'previsao_de_renda.csv', que é a base do seu próximo projeto. Vamos usar os recursos que vimos até aqui nesta base.\n",
    "\n",
    "|variavel|descrição|\n",
    "|-|-|\n",
    "|data_ref                | Data de referência de coleta das variáveis |\n",
    "|index                   | Código de identificação do cliente|\n",
    "|sexo                    | Sexo do cliente|\n",
    "|posse_de_veiculo        | Indica se o cliente possui veículo|\n",
    "|posse_de_imovel         | Indica se o cliente possui imóvel|\n",
    "|qtd_filhos              | Quantidade de filhos do cliente|\n",
    "|tipo_renda              | Tipo de renda do cliente|\n",
    "|educacao                | Grau de instrução do cliente|\n",
    "|estado_civil            | Estado civil do cliente|\n",
    "|tipo_residencia         | Tipo de residência do cliente (própria, alugada etc)|\n",
    "|idade                   | Idade do cliente|\n",
    "|tempo_emprego           | Tempo no emprego atual|\n",
    "|qt_pessoas_residencia   | Quantidade de pessoas que moram na residência|\n",
    "|renda                   | Renda em reais|"
   ]
  },
  {
   "cell_type": "code",
   "execution_count": null,
   "metadata": {},
   "outputs": [],
   "source": [
    "import pandas as pd"
   ]
  },
  {
   "cell_type": "code",
   "execution_count": null,
   "metadata": {},
   "outputs": [],
   "source": [
    "# Carregando o dataset\n",
    "df = pd.read_csv('previsao_de_renda.csv')\n",
    "\n",
    "# Removendo as colunas utilidade\n",
    "colunas_para_remover = ['data_ref', 'id_cliente', 'Unnamed: 0']\n",
    "df = df.drop(columns=colunas_para_remover)\n",
    "\n",
    "df"
   ]
  },
  {
   "cell_type": "code",
   "execution_count": null,
   "metadata": {},
   "outputs": [],
   "source": [
    "# Contando os dados faltantes em cada coluna\n",
    "print(df.isnull().sum())"
   ]
  },
  {
   "cell_type": "code",
   "execution_count": null,
   "metadata": {},
   "outputs": [],
   "source": [
    "# Removendo as linhas com dados faltantes\n",
    "df = df.dropna()\n",
    "\n",
    "df"
   ]
  },
  {
   "cell_type": "code",
   "execution_count": null,
   "metadata": {},
   "outputs": [],
   "source": [
    "df.info()"
   ]
  },
  {
   "cell_type": "markdown",
   "metadata": {},
   "source": [
    "1. Separe a base em treinamento e teste (25% para teste, 75% para treinamento).\n",
    "2. Rode uma regularização *ridge* com alpha = [0, 0.001, 0.005, 0.01, 0.05, 0.1] e avalie o $R^2$ na base de testes. Qual o melhor modelo?\n",
    "3. Faça o mesmo que no passo 2, com uma regressão *LASSO*. Qual método chega a um melhor resultado?\n",
    "4. Rode um modelo *stepwise*. Avalie o $R^2$ na vase de testes. Qual o melhor resultado?\n",
    "5. Compare os parâmetros e avalie eventuais diferenças. Qual modelo você acha o melhor de todos?\n",
    "6. Partindo dos modelos que você ajustou, tente melhorar o $R^2$ na base de testes. Use a criatividade, veja se consegue inserir alguma transformação ou combinação de variáveis.\n",
    "7. Ajuste uma árvore de regressão e veja se consegue um $R^2$ melhor com ela."
   ]
  },
  {
   "cell_type": "code",
   "execution_count": null,
   "metadata": {},
   "outputs": [],
   "source": [
    "from sklearn.model_selection import train_test_split\n",
    "\n",
    "# Definindo as variáveis preditoras (X) e a variável alvo (y)\n",
    "X = df.drop('renda', axis=1)\n",
    "y = df['renda']\n",
    "\n",
    "# Separando os dados em conjuntos de treinamento e teste\n",
    "X_train, X_test, y_train, y_test = train_test_split(X, y, test_size=0.25, random_state=42)\n",
    "\n",
    "# Verificando os tamanhos dos conjuntos\n",
    "print(f\"Tamanho do conjunto de treinamento: {X_train.shape[0]}\")\n",
    "print(f\"Tamanho do conjunto de teste: {X_test.shape[0]}\")"
   ]
  },
  {
   "cell_type": "code",
   "execution_count": null,
   "metadata": {},
   "outputs": [],
   "source": [
    "from sklearn.linear_model import Ridge\n",
    "from sklearn.preprocessing import StandardScaler, OneHotEncoder\n",
    "from sklearn.compose import ColumnTransformer\n",
    "from sklearn.pipeline import Pipeline\n",
    "from sklearn.metrics import r2_score\n",
    "import numpy as np\n",
    "\n",
    "# Identificar colunas categóricas e numéricas\n",
    "colunas_categoricas = X.select_dtypes(include=['object', 'category']).columns\n",
    "colunas_numericas = X.select_dtypes(include=['int64', 'float64']).columns\n",
    "\n",
    "# Criar um preprocessador\n",
    "preprocessador = ColumnTransformer(\n",
    "    transformers=[\n",
    "        ('num', StandardScaler(), colunas_numericas),\n",
    "        ('cat', OneHotEncoder(drop='first'), colunas_categoricas)\n",
    "    ])\n",
    "\n",
    "# Criar um pipeline com o preprocessador e o modelo Ridge\n",
    "pipeline = Pipeline([\n",
    "    ('preprocessador', preprocessador),\n",
    "    ('regressor', Ridge())\n",
    "])\n",
    "\n",
    "# Lista de valores alpha para testar\n",
    "alphas = [0, 0.001, 0.005, 0.01, 0.05, 0.1]\n",
    "\n",
    "# Dicionário para armazenar os resultados\n",
    "resultados = {}\n",
    "\n",
    "# Testando cada valor de alpha\n",
    "for alpha in alphas:\n",
    "    # Configurando o alpha no modelo Ridge\n",
    "    pipeline.set_params(regressor__alpha=alpha)\n",
    "    \n",
    "    # Treinando o modelo\n",
    "    pipeline.fit(X_train, y_train)\n",
    "    \n",
    "    # Fazendo previsões no conjunto de teste\n",
    "    y_pred = pipeline.predict(X_test)\n",
    "    \n",
    "    # Calculando o R² e armazenando o resultado\n",
    "    r2 = r2_score(y_test, y_pred)\n",
    "    resultados[alpha] = r2\n",
    "\n",
    "# Imprimindo os resultados\n",
    "for alpha, r2 in resultados.items():\n",
    "    print(f\"Alpha: {alpha}, R²: {r2:.4f}\")\n",
    "\n",
    "# Encontrando o melhor modelo\n",
    "melhor_alpha = max(resultados, key=resultados.get)\n",
    "print(f\"\\nMelhor modelo: Alpha = {melhor_alpha}, R² = {resultados[melhor_alpha]:.4f}\")"
   ]
  },
  {
   "cell_type": "code",
   "execution_count": null,
   "metadata": {},
   "outputs": [],
   "source": [
    "from sklearn.linear_model import Lasso\n",
    "\n",
    "# Identificar colunas categóricas e numéricas\n",
    "colunas_categoricas = X.select_dtypes(include=['object', 'category']).columns\n",
    "colunas_numericas = X.select_dtypes(include=['int64', 'float64']).columns\n",
    "\n",
    "# Criar um preprocessador\n",
    "preprocessador = ColumnTransformer(\n",
    "    transformers=[\n",
    "        ('num', StandardScaler(), colunas_numericas),\n",
    "        ('cat', OneHotEncoder(drop='first'), colunas_categoricas)\n",
    "    ])\n",
    "\n",
    "# Criar um pipeline com o preprocessador e o modelo Lasso\n",
    "pipeline = Pipeline([\n",
    "    ('preprocessador', preprocessador),\n",
    "    ('regressor', Lasso())\n",
    "])\n",
    "\n",
    "# Lista de valores alpha para testar\n",
    "alphas = [0, 0.001, 0.005, 0.01, 0.05, 0.1]\n",
    "\n",
    "# Dicionário para armazenar os resultados\n",
    "resultados = {}\n",
    "\n",
    "# Testando cada valor de alpha\n",
    "for alpha in alphas:\n",
    "    # Configurando o alpha no modelo Lasso\n",
    "    pipeline.set_params(regressor__alpha=alpha)\n",
    "    \n",
    "    # Treinando o modelo\n",
    "    pipeline.fit(X_train, y_train)\n",
    "    \n",
    "    # Fazendo previsões no conjunto de teste\n",
    "    y_pred = pipeline.predict(X_test)\n",
    "    \n",
    "    # Calculando o R² e armazenando o resultado\n",
    "    r2 = r2_score(y_test, y_pred)\n",
    "    resultados[alpha] = r2\n",
    "\n",
    "# Imprimindo os resultados\n",
    "for alpha, r2 in resultados.items():\n",
    "    print(f\"Alpha: {alpha}, R²: {r2:.4f}\")\n",
    "\n",
    "# Encontrando o melhor modelo\n",
    "melhor_alpha = max(resultados, key=resultados.get)\n",
    "print(f\"\\nMelhor modelo: Alpha = {melhor_alpha}, R² = {resultados[melhor_alpha]:.4f}\")"
   ]
  },
  {
   "cell_type": "code",
   "execution_count": null,
   "metadata": {},
   "outputs": [],
   "source": [
    "from sklearn.feature_selection import SequentialFeatureSelector\n",
    "from sklearn.linear_model import LinearRegression\n",
    "\n",
    "# Identificar colunas categóricas e numéricas\n",
    "colunas_categoricas = X.select_dtypes(include=['object', 'category']).columns\n",
    "colunas_numericas = X.select_dtypes(include=['int64', 'float64']).columns\n",
    "\n",
    "# Criar um preprocessador\n",
    "preprocessador = ColumnTransformer(\n",
    "    transformers=[\n",
    "        ('num', StandardScaler(), colunas_numericas),\n",
    "        ('cat', OneHotEncoder(drop='first'), colunas_categoricas)\n",
    "    ])\n",
    "\n",
    "# Criar um pipeline com o preprocessador, seletor de características e regressão linear\n",
    "pipeline = Pipeline([\n",
    "    ('preprocessador', preprocessador),\n",
    "    ('selector', SequentialFeatureSelector(LinearRegression(), n_features_to_select='auto', direction='forward')),\n",
    "    ('regressor', LinearRegression())\n",
    "])\n",
    "\n",
    "# Treinar o modelo\n",
    "pipeline.fit(X_train, y_train)\n",
    "\n",
    "# Fazer previsões no conjunto de teste\n",
    "y_pred = pipeline.predict(X_test)\n",
    "\n",
    "# Calcular o R² no conjunto de teste\n",
    "r2 = r2_score(y_test, y_pred)\n",
    "\n",
    "print(f\"R² do modelo stepwise no conjunto de teste: {r2:.4f}\")\n",
    "\n",
    "# Obter as características selecionadas\n",
    "caracteristicas_selecionadas = pipeline.named_steps['selector'].get_support()\n",
    "nomes_caracteristicas = pipeline.named_steps['preprocessador'].get_feature_names_out()\n",
    "caracteristicas_finais = nomes_caracteristicas[caracteristicas_selecionadas]\n",
    "\n",
    "print(\"\\nCaracterísticas selecionadas:\")\n",
    "for caracteristica in caracteristicas_finais:\n",
    "    print(caracteristica)"
   ]
  },
  {
   "cell_type": "markdown",
   "metadata": {},
   "source": [
    "Eu diria que o modelo Ridge ou Lasso com alpha = 0.001 aparenta ser ligeiramente melhor, pois:\n",
    "Eles oferecem uma pequena regularização, o que pode ajudar a prevenir overfitting.\n",
    "Mantêm todas as variáveis no modelo, o que pode ser útil se todas as variáveis forem consideradas importantes do ponto de vista do negócio.\n",
    "No entanto, se a interpretabilidade e a simplicidade do modelo forem prioridades, o modelo stepwise poderia ser uma escolha igualmente boa, já que ele seleciona automaticamente as características mais relevantes.\n",
    "É importante notar que, para uma decisão final, seria útil considerar outros fatores como a estabilidade do modelo em diferentes subconjuntos de dados, a facilidade de implementação e manutenção, e as necessidades específicas do projeto ou negócio."
   ]
  },
  {
   "cell_type": "code",
   "execution_count": 36,
   "metadata": {},
   "outputs": [
    {
     "name": "stdout",
     "output_type": "stream",
     "text": [
      "R² da árvore de regressão no conjunto de teste: 0.2258\n"
     ]
    }
   ],
   "source": [
    "from sklearn.tree import DecisionTreeRegressor\n",
    "from sklearn.preprocessing import StandardScaler, OneHotEncoder\n",
    "from sklearn.compose import ColumnTransformer\n",
    "from sklearn.pipeline import Pipeline\n",
    "from sklearn.metrics import r2_score\n",
    "\n",
    "# Identificar colunas categóricas e numéricas\n",
    "colunas_categoricas = X.select_dtypes(include=['object', 'category']).columns\n",
    "colunas_numericas = X.select_dtypes(include=['int64', 'float64']).columns\n",
    "\n",
    "# Criar um preprocessador\n",
    "preprocessador = ColumnTransformer(\n",
    "    transformers=[\n",
    "        ('num', StandardScaler(), colunas_numericas),\n",
    "        ('cat', OneHotEncoder(drop='first'), colunas_categoricas)\n",
    "    ])\n",
    "\n",
    "# Criar um pipeline com o preprocessador e a árvore de decisão\n",
    "pipeline = Pipeline([\n",
    "    ('preprocessador', preprocessador),\n",
    "    ('regressor', DecisionTreeRegressor(random_state=42))\n",
    "])\n",
    "\n",
    "# Treinar o modelo\n",
    "pipeline.fit(X_train, y_train)\n",
    "\n",
    "# Fazer previsões no conjunto de teste\n",
    "y_pred = pipeline.predict(X_test)\n",
    "\n",
    "# Calcular o R² no conjunto de teste\n",
    "r2 = r2_score(y_test, y_pred)\n",
    "\n",
    "print(f\"R² da árvore de regressão no conjunto de teste: {r2:.4f}\")"
   ]
  }
 ],
 "metadata": {
  "kernelspec": {
   "display_name": "Python 3",
   "language": "python",
   "name": "python3"
  },
  "language_info": {
   "codemirror_mode": {
    "name": "ipython",
    "version": 3
   },
   "file_extension": ".py",
   "mimetype": "text/x-python",
   "name": "python",
   "nbconvert_exporter": "python",
   "pygments_lexer": "ipython3",
   "version": "3.11.5"
  }
 },
 "nbformat": 4,
 "nbformat_minor": 4
}
